{
 "cells": [
  {
   "cell_type": "markdown",
   "metadata": {},
   "source": [
    "# Walkthrough of HOList API"
   ]
  },
  {
   "cell_type": "markdown",
   "metadata": {
    "toc": true
   },
   "source": [
    "<h1>Table of Contents<span class=\"tocSkip\"></span></h1>\n",
    "<div class=\"toc\"><ul class=\"toc-item\"><li><span><a href=\"#Running-this-notebook\" data-toc-modified-id=\"Running-this-notebook-1\"><span class=\"toc-item-num\">1&nbsp;&nbsp;</span>Running this notebook</a></span><ul class=\"toc-item\"><li><span><a href=\"#Instructions-for-opening-this-notebook-(tested-in-MacOS-with-Python-3.7)\" data-toc-modified-id=\"Instructions-for-opening-this-notebook-(tested-in-MacOS-with-Python-3.7)-1.1\"><span class=\"toc-item-num\">1.1&nbsp;&nbsp;</span>Instructions for opening this notebook (tested in MacOS with Python 3.7)</a></span></li></ul></li><li><span><a href=\"#Start-the-HOList-server\" data-toc-modified-id=\"Start-the-HOList-server-2\"><span class=\"toc-item-num\">2&nbsp;&nbsp;</span>Start the HOList server</a></span></li><li><span><a href=\"#Interacting-with-the-server:-big-picture\" data-toc-modified-id=\"Interacting-with-the-server:-big-picture-3\"><span class=\"toc-item-num\">3&nbsp;&nbsp;</span>Interacting with the server: big picture</a></span><ul class=\"toc-item\"><li><span><a href=\"#Theorem-proving\" data-toc-modified-id=\"Theorem-proving-3.1\"><span class=\"toc-item-num\">3.1&nbsp;&nbsp;</span>Theorem proving</a></span></li><li><span><a href=\"#Workflow\" data-toc-modified-id=\"Workflow-3.2\"><span class=\"toc-item-num\">3.2&nbsp;&nbsp;</span>Workflow</a></span></li><li><span><a href=\"#The-server-state\" data-toc-modified-id=\"The-server-state-3.3\"><span class=\"toc-item-num\">3.3&nbsp;&nbsp;</span>The server state</a></span></li></ul></li><li><span><a href=\"#A-quick-walkthrough-of-the-gRPC-API\" data-toc-modified-id=\"A-quick-walkthrough-of-the-gRPC-API-4\"><span class=\"toc-item-num\">4&nbsp;&nbsp;</span>A quick walkthrough of the gRPC API</a></span><ul class=\"toc-item\"><li><span><a href=\"#ApplyTactic-request\" data-toc-modified-id=\"ApplyTactic-request-4.1\"><span class=\"toc-item-num\">4.1&nbsp;&nbsp;</span><code>ApplyTactic</code> request</a></span></li><li><span><a href=\"#VerifyProof-request\" data-toc-modified-id=\"VerifyProof-request-4.2\"><span class=\"toc-item-num\">4.2&nbsp;&nbsp;</span><code>VerifyProof</code> request</a></span></li><li><span><a href=\"#RegisterTheorem-request\" data-toc-modified-id=\"RegisterTheorem-request-4.3\"><span class=\"toc-item-num\">4.3&nbsp;&nbsp;</span><code>RegisterTheorem</code> request</a></span></li></ul></li><li><span><a href=\"#Available-tactics\" data-toc-modified-id=\"Available-tactics-5\"><span class=\"toc-item-num\">5&nbsp;&nbsp;</span>Available tactics</a></span></li><li><span><a href=\"#TODO:-Figure-out-how-all-this-fits-into-the-big-workflow-of-using-the-HOList-Dataset.\" data-toc-modified-id=\"TODO:-Figure-out-how-all-this-fits-into-the-big-workflow-of-using-the-HOList-Dataset.-6\"><span class=\"toc-item-num\">6&nbsp;&nbsp;</span>TODO: Figure out how all this fits into the big workflow of using the HOList Dataset.</a></span></li><li><span><a href=\"#Don't-forget-to-shutdown-the-HOList-server-when-done\" data-toc-modified-id=\"Don't-forget-to-shutdown-the-HOList-server-when-done-7\"><span class=\"toc-item-num\">7&nbsp;&nbsp;</span>Don't forget to shutdown the HOList server when done</a></span></li></ul></div>"
   ]
  },
  {
   "cell_type": "markdown",
   "metadata": {},
   "source": [
    "## Running this notebook"
   ]
  },
  {
   "cell_type": "markdown",
   "metadata": {},
   "source": [
    "### Instructions for opening this notebook (tested in MacOS with Python 3.7)\n",
    "Clone repository\n",
    "```bash \n",
    "$ git clone https://github.com/jasonrute/holist-communication-example\n",
    "$ cd holist-communication-example\n",
    "```\n",
    "\n",
    "Make new virtual environment using Python's built in venv (virtualenv and conda should also work).\n",
    "```bash\n",
    "$ python3.7 -m venv venv  # make a new virtual env\n",
    "$ source venv/bin/activate\n",
    "$ python -m pip install --upgrade pip\n",
    "```\n",
    "\n",
    "Install GRPC and Jupyter.\n",
    "```\n",
    "python -m pip install -r requirements.txt\n",
    "```\n",
    "\n",
    "Run Jupyter\n",
    "```\n",
    "jupyter notebook\n",
    "```\n",
    "\n",
    "Open the `walkthrough_of_holist_api` and you should be all set."
   ]
  },
  {
   "cell_type": "code",
   "execution_count": 1,
   "metadata": {},
   "outputs": [],
   "source": [
    "import time\n",
    "\n",
    "import grpc\n",
    "\n",
    "# automatically generated protobuf and grpc python files\n",
    "import proof_assistant_pb2\n",
    "import proof_assistant_pb2_grpc"
   ]
  },
  {
   "cell_type": "markdown",
   "metadata": {},
   "source": [
    "## Start the HOList server"
   ]
  },
  {
   "cell_type": "code",
   "execution_count": 2,
   "metadata": {},
   "outputs": [],
   "source": [
    "PORT = 'localhost:2000'"
   ]
  },
  {
   "cell_type": "markdown",
   "metadata": {},
   "source": [
    "You must have [Docker](https://www.docker.com) installed and running.  The following command starts the HOList server and exposes port 2000."
   ]
  },
  {
   "cell_type": "code",
   "execution_count": 3,
   "metadata": {},
   "outputs": [
    {
     "name": "stdout",
     "output_type": "stream",
     "text": [
      "Error response from daemon: No such container: holist\r\n"
     ]
    }
   ],
   "source": [
    "# shut down the server in case it is running so that we have a clean start\n",
    "! docker stop holist && docker rm holist"
   ]
  },
  {
   "cell_type": "code",
   "execution_count": 4,
   "metadata": {},
   "outputs": [
    {
     "name": "stdout",
     "output_type": "stream",
     "text": [
      "4a4170aa2f3b674f9ee3aaefcfe973e34a8af08b5b9ba2708cbfeed1d075660c\r\n"
     ]
    }
   ],
   "source": [
    "# run the docker container on the command line \n",
    "! docker run -d -p 2000:2000 --name=holist gcr.io/deepmath/hol-light"
   ]
  },
  {
   "cell_type": "markdown",
   "metadata": {},
   "source": [
    "**IMPORTANT: The docker container needs to be shut down when finished.**\n",
    "To shut down, on the command line, run \n",
    "```bash\n",
    "$ docker stop holist && docker rm holist\n",
    "```\n",
    "or in this notebook, run\n",
    "```python\n",
    "! docker stop holist && docker rm holist\n",
    "```"
   ]
  },
  {
   "cell_type": "markdown",
   "metadata": {},
   "source": [
    "Testing that the gRPC can communicate with the server"
   ]
  },
  {
   "cell_type": "code",
   "execution_count": 5,
   "metadata": {},
   "outputs": [
    {
     "name": "stdout",
     "output_type": "stream",
     "text": [
      "Attempting to communicate with HOList server via localhost:2000 ...\n",
      "Success!\n"
     ]
    }
   ],
   "source": [
    "print(\"Attempting to communicate with HOList server via\", PORT, \"...\")\n",
    "\n",
    "time.sleep(10) # give the server time to start up\n",
    "\n",
    "with grpc.insecure_channel(PORT) as channel:\n",
    "    stub = proof_assistant_pb2_grpc.ProofAssistantServiceStub(channel)\n",
    "    \n",
    "    trivial_theorem = proof_assistant_pb2.Theorem(\n",
    "        name=\"True\",\n",
    "        conclusion=\"(c (bool) T)\",  # True\n",
    "        training_split=proof_assistant_pb2.Theorem.Split.TESTING,\n",
    "        tag=proof_assistant_pb2.Theorem.Tag.THEOREM,\n",
    "    )\n",
    "    request = proof_assistant_pb2.ApplyTacticRequest(goal=trivial_theorem, tactic=\"ITAUT\")\n",
    "    \n",
    "    # will fail if can't connect to server\n",
    "    response = stub.ApplyTactic(request)\n",
    "    \n",
    "    print(\"Success!\")"
   ]
  },
  {
   "cell_type": "markdown",
   "metadata": {},
   "source": [
    "## Interacting with the server: big picture"
   ]
  },
  {
   "cell_type": "markdown",
   "metadata": {},
   "source": [
    "### Theorem proving\n",
    "One can think of tactic-based theorem proving as a type of one-player board game, or as a puzzle like the Rubik's cube.  There is a starting state (e.g. a shuffled Rubik's cube), intermediate states (e.g. a partially solved Rubik's cube), a desired final state (a solved Rubik's cube), and a set of actions one can do each turn (e.g. move the Rubik's cube). In HOL Light, it is the same.  A state in this case is a list of *goals*, and the actions are called *tactics*.  However, unlike a Rubik's cube or a board game, the tactic actions can be quite complicated, even referring to previously proved theorems.\n",
    "\n",
    "Hence the big picture of the HOList interface is that it provides 3 ways to call the server:\n",
    "\n",
    "1. Apply a tactic to a goal.  This is basically performing one action in the attempt to prove a goal.\n",
    "2. Verify proof.  This is verifying that a proof (a list of tactics) is correct.\n",
    "3. Register a theorem (or definition).  This is the way to add dependency theorems that a tactic can refer to.  If I want to prove that `1 + 2 = 2 + 1`, I can use the theorem that addition is commutative.  To do that, I have to add this to the list of theorems that the server maintains.\n",
    "\n",
    "Below we will go into details about all these server calls, but it is good to know that they are outlined in the file `proof_assistant.proto`, particularly, these lines: \n",
    "```proto\n",
    "service ProofAssistantService {\n",
    "  // Apply a tactic to a goal, potentially generating new subgoals.\n",
    "  rpc ApplyTactic(ApplyTacticRequest) returns (ApplyTacticResponse) {}\n",
    "\n",
    "  // Verify that a sequence of tactics proves a goal using the proof assistant.\n",
    "  rpc VerifyProof(VerifyProofRequest) returns (VerifyProofResponse) {}\n",
    "\n",
    "  // Register a new theorem with the proof assistant and verify/generate\n",
    "  // its fingerprint. The theorem will be assumed as one that can be used\n",
    "  // as a valid premise for later proofs.\n",
    "  rpc RegisterTheorem(RegisterTheoremRequest)\n",
    "      returns (RegisterTheoremResponse) {}\n",
    "}\n",
    "```\n",
    "\n",
    "### Workflow\n",
    "The intended workflow to use this server seems to be the following:\n",
    "1. Compile a list of theorems along with their proofs.  (HOList provides this.)\n",
    "2. In order, do the following for each theorem in the test set:\n",
    "   1. Repeatedly use the `ApplyTactic` requests to try to prove a theorem, using backtracking.  Can refer to earlier added theorems and definitions.\n",
    "   2. Use the `VerifyProof` request to verify that a proof is correct.  (This is probably not the proof one just found, but one supplied in the training data.)\n",
    "   3. Use the `RegisterTheorem` request to add that theorem to the list of available theorems.  Note, it has to be the most recently verified proof for this to work.  Now this theorem is available as a premise for future theorems."
   ]
  },
  {
   "cell_type": "markdown",
   "metadata": {},
   "source": [
    "### The server state\n",
    "\n",
    "It is important to observe that the HOList server is **stateful**.  The server maintains an internal list of theorems and definitions.  This list starts out empty, but can be added to later.  These theorems and definitions can be used as premises to prove other theorems.\n",
    "\n",
    "It does not however store the current goal state.  You have to supply that in the server call.  This makes tree search and backtracking easy, since there is no concept of a \"current goal state\" in the server."
   ]
  },
  {
   "cell_type": "markdown",
   "metadata": {},
   "source": [
    "## A quick walkthrough of the gRPC API"
   ]
  },
  {
   "cell_type": "markdown",
   "metadata": {},
   "source": [
    "### `ApplyTactic` request\n",
    "The request is a combination of a goal and a tactic.  The type of the goal is a `Theorem` object and the type of the tactic is a plain string.  \n",
    "\n",
    "The response is a list of new goals to solve.  If the list is empty, then that tactic solved that goal."
   ]
  },
  {
   "cell_type": "markdown",
   "metadata": {},
   "source": [
    "Theorem objects have a name, a conclusion (that which is being proved) and some more labels which have to be filled in.  The conclusion is a LISP-like s-expression based on the internal HOL Light language.  It is hard to read by a human.  Here is a quick tutorial:\n",
    "- `(a F x)` means apply a function F to an object x (just written `F x` in functional programming).\n",
    "- `(c T x)` is referring to the constant value x, which has type T (`x : T` in functional programming notation).\n",
    "- `(v T x)` is similar, but for a variable x with type T.  \n",
    "- `(fun A B)` is a function type constructor (`A -> B` in functional programming).  \n",
    "- `(l v f)` is a lambda term (`lambda v. f`, or similar, in functional programming).\n",
    "- `!` is \"for all\" which has type `(A -> bool) -> bool`\n",
    "- `?` is \"exists\"\n",
    "- `=` has type `A -> A -> bool`"
   ]
  },
  {
   "cell_type": "code",
   "execution_count": 6,
   "metadata": {},
   "outputs": [],
   "source": [
    "# A basic theorem\n",
    "eq_refl = proof_assistant_pb2.Theorem(\n",
    "    name=\"EQ_REFL\",\n",
    "    conclusion=\"(a (c (fun (fun A (bool)) (bool)) !) (l (v A x) (a (a (c (fun A (fun A (bool))) =) (v A x)) (v A x))))\",\n",
    "    training_split=proof_assistant_pb2.Theorem.Split.TESTING,\n",
    "    tag=proof_assistant_pb2.Theorem.Tag.THEOREM,\n",
    ")"
   ]
  },
  {
   "cell_type": "markdown",
   "metadata": {},
   "source": [
    "More on tactics later, but for now it is enough to know that a tactic is written as a string in a modified form of HOL Light's tactic DSL. Some tactics take no parameters, a single parameter, or a list of parameters.  `[ ]` means an empty list of parameters (spaces are important here)."
   ]
  },
  {
   "cell_type": "code",
   "execution_count": 7,
   "metadata": {},
   "outputs": [],
   "source": [
    "# a simplying tactic with no parameters\n",
    "simp_tac_no_params = 'SIMP_TAC [ ]'"
   ]
  },
  {
   "cell_type": "code",
   "execution_count": 8,
   "metadata": {},
   "outputs": [
    {
     "name": "stdout",
     "output_type": "stream",
     "text": [
      "Request:\n",
      "goal {\n",
      "  conclusion: \"(a (c (fun (fun A (bool)) (bool)) !) (l (v A x) (a (a (c (fun A (fun A (bool))) =) (v A x)) (v A x))))\"\n",
      "  tag: THEOREM\n",
      "  name: \"EQ_REFL\"\n",
      "  training_split: TESTING\n",
      "}\n",
      "tactic: \"SIMP_TAC [ ]\"\n",
      "\n",
      "Response:\n",
      "goals {\n",
      "}\n",
      "\n"
     ]
    }
   ],
   "source": [
    "# simplification is enough to prove reflection of equality\n",
    "with grpc.insecure_channel(PORT) as channel:\n",
    "    stub = proof_assistant_pb2_grpc.ProofAssistantServiceStub(channel)\n",
    "\n",
    "    request = proof_assistant_pb2.ApplyTacticRequest(goal=eq_refl, tactic=simp_tac_no_params)\n",
    "    print(\"Request:\")\n",
    "    print(request)\n",
    "\n",
    "    response = stub.ApplyTactic(request)\n",
    "    print(\"Response:\")\n",
    "    print(response)"
   ]
  },
  {
   "cell_type": "markdown",
   "metadata": {},
   "source": [
    "A response of\n",
    "```proto\n",
    "goals { }\n",
    "```\n",
    "means the goal has been solved!"
   ]
  },
  {
   "cell_type": "markdown",
   "metadata": {},
   "source": [
    "Let's try to prove something a bit more difficult."
   ]
  },
  {
   "cell_type": "code",
   "execution_count": 9,
   "metadata": {},
   "outputs": [],
   "source": [
    "for_all_x_exists_y_x_equals_y = proof_assistant_pb2.Theorem(\n",
    "    name=\"FORALL_X_EXISTS_Y_SUCH_THAT_X_EQUALS_Y\",\n",
    "    conclusion=\"(a (c (fun (fun A (bool)) (bool)) !) (l (v A x) (a (c (fun (fun A (bool)) (bool)) ?) (l (v A y) (a (a (c (fun A (fun A (bool))) =) (v A x)) (v A y))))))\",\n",
    "    training_split=proof_assistant_pb2.Theorem.Split.TESTING,\n",
    "    tag=proof_assistant_pb2.Theorem.Tag.THEOREM,\n",
    ")"
   ]
  },
  {
   "cell_type": "code",
   "execution_count": 10,
   "metadata": {},
   "outputs": [
    {
     "name": "stdout",
     "output_type": "stream",
     "text": [
      "Remove the forall x\n",
      "\n",
      "Request:\n",
      "goal {\n",
      "  conclusion: \"(a (c (fun (fun A (bool)) (bool)) !) (l (v A x) (a (c (fun (fun A (bool)) (bool)) ?) (l (v A y) (a (a (c (fun A (fun A (bool))) =) (v A x)) (v A y))))))\"\n",
      "  tag: THEOREM\n",
      "  name: \"FORALL_X_EXISTS_Y_SUCH_THAT_X_EQUALS_Y\"\n",
      "  training_split: TESTING\n",
      "}\n",
      "tactic: \"GEN_TAC\"\n",
      "\n",
      "Response:\n",
      "goals {\n",
      "  goals {\n",
      "    conclusion: \"(a (c (fun (fun A (bool)) (bool)) ?) (l (v A y) (a (a (c (fun A (fun A (bool))) =) (v A x)) (v A y))))\"\n",
      "    tag: GOAL\n",
      "  }\n",
      "}\n",
      "\n",
      "Specify that exists y is satisfied by y = x\n",
      "\n",
      "Request:\n",
      "goal {\n",
      "  conclusion: \"(a (c (fun (fun A (bool)) (bool)) ?) (l (v A y) (a (a (c (fun A (fun A (bool))) =) (v A x)) (v A y))))\"\n",
      "  tag: GOAL\n",
      "}\n",
      "tactic: \"EXISTS_TAC `(v A x)`\"\n",
      "\n",
      "Response:\n",
      "goals {\n",
      "  goals {\n",
      "    conclusion: \"(a (a (c (fun A (fun A (bool))) =) (v A x)) (v A x))\"\n",
      "    tag: GOAL\n",
      "  }\n",
      "}\n",
      "\n",
      "Simplify to solve\n",
      "\n",
      "Request:\n",
      "goal {\n",
      "  conclusion: \"(a (a (c (fun A (fun A (bool))) =) (v A x)) (v A x))\"\n",
      "  tag: GOAL\n",
      "}\n",
      "tactic: \"SIMP_TAC [ ]\"\n",
      "\n",
      "Response:\n",
      "goals {\n",
      "}\n",
      "\n"
     ]
    }
   ],
   "source": [
    "with grpc.insecure_channel(PORT) as channel:\n",
    "    stub = proof_assistant_pb2_grpc.ProofAssistantServiceStub(channel)\n",
    "\n",
    "    print(\"Remove the forall x\")\n",
    "    print()\n",
    "    \n",
    "    request1 = proof_assistant_pb2.ApplyTacticRequest(goal=for_all_x_exists_y_x_equals_y, tactic=\"GEN_TAC\")\n",
    "    print(\"Request:\")\n",
    "    print(request1)\n",
    "\n",
    "    response1 = stub.ApplyTactic(request1)\n",
    "    print(\"Response:\")\n",
    "    print(response1)\n",
    "    \n",
    "    print(\"Specify that exists y is satisfied by y = x\")\n",
    "    print()\n",
    "    \n",
    "    request2 = proof_assistant_pb2.ApplyTacticRequest(goal=response1.goals.goals[0], tactic=\"EXISTS_TAC `(v A x)`\")\n",
    "    print(\"Request:\")\n",
    "    print(request2)\n",
    "\n",
    "    response2 = stub.ApplyTactic(request2)\n",
    "    print(\"Response:\")\n",
    "    print(response2)\n",
    "    \n",
    "    print(\"Simplify to solve\")\n",
    "    print()\n",
    "    \n",
    "    request3 = proof_assistant_pb2.ApplyTacticRequest(goal=response2.goals.goals[0], tactic=\"SIMP_TAC [ ]\")\n",
    "    print(\"Request:\")\n",
    "    print(request3)\n",
    "\n",
    "    response3 = stub.ApplyTactic(request3)\n",
    "    print(\"Response:\")\n",
    "    print(response3)"
   ]
  },
  {
   "cell_type": "markdown",
   "metadata": {},
   "source": [
    "It is also possible to get back a failure as a response.  This happens if the tactic is not applicable to that goal, or if it just fails to make progress on the goal."
   ]
  },
  {
   "cell_type": "code",
   "execution_count": 11,
   "metadata": {},
   "outputs": [
    {
     "name": "stdout",
     "output_type": "stream",
     "text": [
      "Request:\n",
      "goal {\n",
      "  conclusion: \"(a (c (fun (fun A (bool)) (bool)) !) (l (v A x) (a (c (fun (fun A (bool)) (bool)) ?) (l (v A y) (a (a (c (fun A (fun A (bool))) =) (v A x)) (v A y))))))\"\n",
      "  tag: THEOREM\n",
      "  name: \"FORALL_X_EXISTS_Y_SUCH_THAT_X_EQUALS_Y\"\n",
      "  training_split: TESTING\n",
      "}\n",
      "tactic: \"EXISTS_TAC `(v A y)`\"\n",
      "\n",
      "Response:\n",
      "error: \"Failure(\\\"EXISTS_TAC: Goal not existentially quantified\\\")\"\n",
      "\n"
     ]
    }
   ],
   "source": [
    "with grpc.insecure_channel(PORT) as channel:\n",
    "    stub = proof_assistant_pb2_grpc.ProofAssistantServiceStub(channel)\n",
    "\n",
    "    request = proof_assistant_pb2.ApplyTacticRequest(goal=for_all_x_exists_y_x_equals_y, tactic=\"EXISTS_TAC `(v A y)`\")\n",
    "    print(\"Request:\")\n",
    "    print(request)\n",
    "\n",
    "    response = stub.ApplyTactic(request)\n",
    "    print(\"Response:\")\n",
    "    print(response)"
   ]
  },
  {
   "cell_type": "markdown",
   "metadata": {},
   "source": [
    "### `VerifyProof` request"
   ]
  },
  {
   "cell_type": "markdown",
   "metadata": {},
   "source": [
    "The request is a goal, a theorem (the same?), and a proof (as a list of strings of tactic commands).  The response is a boolean saying the proof has been verified (or an error)."
   ]
  },
  {
   "cell_type": "markdown",
   "metadata": {},
   "source": [
    "Here we verify the theorem from earlier."
   ]
  },
  {
   "cell_type": "code",
   "execution_count": 12,
   "metadata": {},
   "outputs": [
    {
     "name": "stdout",
     "output_type": "stream",
     "text": [
      "Request:\n",
      "goal {\n",
      "  conclusion: \"(a (c (fun (fun A (bool)) (bool)) !) (l (v A x) (a (c (fun (fun A (bool)) (bool)) ?) (l (v A y) (a (a (c (fun A (fun A (bool))) =) (v A x)) (v A y))))))\"\n",
      "  tag: THEOREM\n",
      "  name: \"FORALL_X_EXISTS_Y_SUCH_THAT_X_EQUALS_Y\"\n",
      "  training_split: TESTING\n",
      "}\n",
      "tactics: \"GEN_TAC\"\n",
      "tactics: \"EXISTS_TAC `(v A x)`\"\n",
      "tactics: \"SIMP_TAC [ ]\"\n",
      "theorem {\n",
      "  conclusion: \"(a (c (fun (fun A (bool)) (bool)) !) (l (v A x) (a (c (fun (fun A (bool)) (bool)) ?) (l (v A y) (a (a (c (fun A (fun A (bool))) =) (v A x)) (v A y))))))\"\n",
      "  tag: THEOREM\n",
      "  name: \"FORALL_X_EXISTS_Y_SUCH_THAT_X_EQUALS_Y\"\n",
      "  training_split: TESTING\n",
      "}\n",
      "\n",
      "Response:\n",
      "sound: true\n",
      "\n"
     ]
    }
   ],
   "source": [
    "with grpc.insecure_channel(PORT) as channel:\n",
    "    stub = proof_assistant_pb2_grpc.ProofAssistantServiceStub(channel)\n",
    "\n",
    "    request = proof_assistant_pb2.VerifyProofRequest(\n",
    "        goal=for_all_x_exists_y_x_equals_y, \n",
    "        theorem=for_all_x_exists_y_x_equals_y, \n",
    "        tactics=[\n",
    "            \"GEN_TAC\",\n",
    "            \"EXISTS_TAC `(v A x)`\",\n",
    "            \"SIMP_TAC [ ]\",\n",
    "        ]\n",
    "    )\n",
    "    \n",
    "    print(\"Request:\")\n",
    "    print(request)\n",
    "\n",
    "    response = stub.VerifyProof(request)\n",
    "    print(\"Response:\")\n",
    "    print(response)"
   ]
  },
  {
   "cell_type": "markdown",
   "metadata": {},
   "source": [
    "### `RegisterTheorem` request"
   ]
  },
  {
   "cell_type": "markdown",
   "metadata": {},
   "source": [
    "The request is a theorem (or definition) to add.  The response is the fingerprint of the theorem."
   ]
  },
  {
   "cell_type": "markdown",
   "metadata": {},
   "source": [
    "**This theorem has to be the one from the most recent call of VerifyProof for this to work.**"
   ]
  },
  {
   "cell_type": "code",
   "execution_count": 13,
   "metadata": {},
   "outputs": [
    {
     "name": "stdout",
     "output_type": "stream",
     "text": [
      "Request:\n",
      "theorem {\n",
      "  conclusion: \"(a (c (fun (fun A (bool)) (bool)) !) (l (v A x) (a (c (fun (fun A (bool)) (bool)) ?) (l (v A y) (a (a (c (fun A (fun A (bool))) =) (v A x)) (v A y))))))\"\n",
      "  tag: THEOREM\n",
      "  name: \"FORALL_X_EXISTS_Y_SUCH_THAT_X_EQUALS_Y\"\n",
      "  training_split: TESTING\n",
      "}\n",
      "\n",
      "Response:\n",
      "fingerprint: 2679395207268212325\n",
      "\n"
     ]
    }
   ],
   "source": [
    "with grpc.insecure_channel(PORT) as channel:\n",
    "    stub = proof_assistant_pb2_grpc.ProofAssistantServiceStub(channel)\n",
    "\n",
    "    request = proof_assistant_pb2.RegisterTheoremRequest(\n",
    "        theorem=for_all_x_exists_y_x_equals_y\n",
    "    )\n",
    "    \n",
    "    print(\"Request:\")\n",
    "    print(request)\n",
    "\n",
    "    response = stub.RegisterTheorem(request)\n",
    "    print(\"Response:\")\n",
    "    print(response)\n",
    "    \n",
    "    for_all_x_exists_y_x_equals_y_fingerprint = response.fingerprint"
   ]
  },
  {
   "cell_type": "markdown",
   "metadata": {},
   "source": [
    "This fingerprint can be used as a parameter for other tactic calls."
   ]
  },
  {
   "cell_type": "code",
   "execution_count": 14,
   "metadata": {},
   "outputs": [],
   "source": [
    "example1 = proof_assistant_pb2.Theorem(\n",
    "    name=\"EXISTS_X_SUCH_THAT_TRUE_EQUALS_X\",\n",
    "    conclusion=\"(a (c (fun (fun (bool) (bool)) (bool)) ?) (l (v (bool) x) (a (a (c (fun (bool) (fun (bool) (bool))) =) (c (bool) T)) (v (bool) x))))\",\n",
    "    training_split=proof_assistant_pb2.Theorem.Split.TESTING,\n",
    "    tag=proof_assistant_pb2.Theorem.Tag.THEOREM,\n",
    ")"
   ]
  },
  {
   "cell_type": "code",
   "execution_count": 15,
   "metadata": {},
   "outputs": [
    {
     "name": "stdout",
     "output_type": "stream",
     "text": [
      "Request:\n",
      "goal {\n",
      "  conclusion: \"(a (c (fun (fun (bool) (bool)) (bool)) ?) (l (v (bool) x) (a (a (c (fun (bool) (fun (bool) (bool))) =) (c (bool) T)) (v (bool) x))))\"\n",
      "  tag: THEOREM\n",
      "  name: \"EXISTS_X_SUCH_THAT_TRUE_EQUALS_X\"\n",
      "  training_split: TESTING\n",
      "}\n",
      "tactic: \"SIMP_TAC [ THM 2679395207268212325 ]\"\n",
      "\n",
      "Response:\n",
      "goals {\n",
      "}\n",
      "\n"
     ]
    }
   ],
   "source": [
    "with grpc.insecure_channel(PORT) as channel:\n",
    "    stub = proof_assistant_pb2_grpc.ProofAssistantServiceStub(channel)\n",
    "\n",
    "    request = proof_assistant_pb2.ApplyTacticRequest(goal=example1, tactic=\"SIMP_TAC [ THM {} ]\".format(for_all_x_exists_y_x_equals_y_fingerprint))\n",
    "    print(\"Request:\")\n",
    "    print(request)\n",
    "\n",
    "    response = stub.ApplyTactic(request)\n",
    "    print(\"Response:\")\n",
    "    print(response)"
   ]
  },
  {
   "cell_type": "markdown",
   "metadata": {},
   "source": [
    "Again, a theorem can't be registered unless it is the most recently verified proof.  **In some cases (such as if there are no registed proofs yet, the error message can be quite cryptic).**"
   ]
  },
  {
   "cell_type": "code",
   "execution_count": 16,
   "metadata": {},
   "outputs": [
    {
     "name": "stdout",
     "output_type": "stream",
     "text": [
      "Request:\n",
      "theorem {\n",
      "  conclusion: \"(a (c (fun (fun (bool) (bool)) (bool)) ?) (l (v (bool) x) (a (a (c (fun (bool) (fun (bool) (bool))) =) (c (bool) T)) (v (bool) x))))\"\n",
      "  tag: THEOREM\n",
      "  name: \"EXISTS_X_SUCH_THAT_TRUE_EQUALS_X\"\n",
      "  training_split: TESTING\n",
      "}\n",
      "\n",
      "Response:\n",
      "error_msg: \"INTERNAL:Failure(\\\"Last theorem is not THM 2193973276563729542 but 2679395207268212325; Theorem: (h () (a (c (fun (fun A (bool)) (bool)) !) (l (v A x) (a (c (fun (fun A (bool)) (bool)) ?) (l (v A y) (a (a (c (fun A (fun A (bool))) =) (v A x)) (v A y)))))))\\\")\"\n",
      "\n"
     ]
    }
   ],
   "source": [
    "with grpc.insecure_channel(PORT) as channel:\n",
    "    stub = proof_assistant_pb2_grpc.ProofAssistantServiceStub(channel)\n",
    "\n",
    "    request = proof_assistant_pb2.RegisterTheoremRequest(\n",
    "        theorem=example1\n",
    "    )\n",
    "    \n",
    "    print(\"Request:\")\n",
    "    print(request)\n",
    "\n",
    "    response = stub.RegisterTheorem(request)\n",
    "    print(\"Response:\")\n",
    "    print(response)"
   ]
  },
  {
   "cell_type": "markdown",
   "metadata": {},
   "source": [
    "**TODO: Show how to register definitions**"
   ]
  },
  {
   "cell_type": "markdown",
   "metadata": {},
   "source": [
    "## Available tactics"
   ]
  },
  {
   "cell_type": "markdown",
   "metadata": {},
   "source": [
    "The tactic argument in Apply tactic is a modified form of HOL Light code.  Below is a list of tactics and how to call them.  See here for HOL Light documentation: https://www.cl.cam.ac.uk/~jrh13/hol-light/reference.html."
   ]
  },
  {
   "cell_type": "code",
   "execution_count": 17,
   "metadata": {},
   "outputs": [],
   "source": [
    "# tactics which take no arguements\n",
    "abs_tac = \"ABS_TAC\"\n",
    "ants_tac = \"ANTS_TAC\"\n",
    "arith_tac = \"ARITH_TAC\"\n",
    "cheat_tac = \"CHEAT_TAC\"  # NEVER USE EXCEPT FOR TESTING!\n",
    "conj_tac = \"CONJ_TAC\"\n",
    "disch_tac = \"DISCH_TAC\"\n",
    "disj1_tac = \"DISJ1_TAC\"\n",
    "disj2_tac = \"DISJ2_TAC\"\n",
    "eq_tac = \"EQ_TAC\"\n",
    "gen_tac = \"GEN_TAC\"\n",
    "itaut_tac = \"ITAUT_TAC\"\n",
    "mk_comb_tac = \"MK_COMB_TAC\"\n",
    "raw_pop_all_tac = \"RAW_POP_ALL_TAC\"\n",
    "real_arith_tac = \"REAL_ARITH_TAC\"  # Calc_rat.REAL_ARITH_TAC in HOL Light\n",
    "real_arith_tac2 = \"REAL_ARITH_TAC2\"  # Reals.REAL_ARITH_TAC in HOL Light\n",
    "refl_tac = \"REFL_TAC\"\n",
    "\n",
    "# tactics which take a single theorem as a parameter\n",
    "# The theorem is entered as \"THM n\" where n is the fingerprint of the theorem\n",
    "accept_tac = lambda th: \"ACCEPT_TAC THM {}\".format(th)\n",
    "backchain_tac = lambda th: \"BACKCHAIN_TAC THM {}\".format(th)\n",
    "choose_tac = lambda th: \"CHOOSE_TAC THM {}\".format(th)\n",
    "contr_tac = lambda th: \"CONTR_TAC THM {}\".format(th)\n",
    "disj_cases_tac = lambda th: \"DISJ_CASES_TAC THM {}\".format(th)\n",
    "match_accept_tac = lambda th: \"MATCH_ACCEPT_TAC THM {}\".format(th)\n",
    "match_mp_tac = lambda th: \"MATCH_MP_TAC THM {}\".format(th)\n",
    "mp_tac = lambda th: \"MP_TAC THM {}\".format(th)\n",
    "raw_conjuncts_tac = lambda th: \"RAW_CONJUNCTS_TAC THM {}\".format(th)\n",
    "subst1_tac = lambda th: \"SUBST1_TAC THM {}\".format(th)\n",
    "\n",
    "\n",
    "# tactics which take a list of theorems (possibly empty) as a parameter\n",
    "# The theorems are entered as a list \"[ THM n1 ; THM n2 ; ... ]\" \n",
    "# where n1, n2, ... are the fingerprints of the theorems\n",
    "asm_meson_tac = lambda thms: \"ASM_MESON_TAC [ {} ]\".format(\" ; \".join(\"THM {}\".format(thm) for thm in thms))\n",
    "asm_metis_tac = lambda thms: \"ASM_METIS_TAC [ {} ]\".format(\" ; \".join(\"THM {}\".format(thm) for thm in thms))\n",
    "meson_tac = lambda thms: \"MESON_TAC [ {} ]\".format(\" ; \".join(\"THM {}\".format(thm) for thm in thms))\n",
    "once_rewrite_tac = lambda thms: \"ONCE_REWRITE_TAC [ {} ]\".format(\" ; \".join(\"THM {}\".format(thm) for thm in thms))\n",
    "pure_once_rewrite_tac = lambda thms: \"PURE_ONCE_REWRITE_TAC [ {} ]\".format(\" ; \".join(\"THM {}\".format(thm) for thm in thms))\n",
    "pure_rewrite_tac = lambda thms: \"PURE_REWRITE_TAC [ {} ]\".format(\" ; \".join(\"THM {}\".format(thm) for thm in thms))\n",
    "rewrite_tac = lambda thms: \"REWRITE_TAC [ {} ]\".format(\" ; \".join(\"THM {}\".format(thm) for thm in thms))\n",
    "simp_tac = lambda thms: \"SIMP_TAC [ {} ]\".format(\" ; \".join(\"THM {}\".format(thm) for thm in thms))\n",
    "                                  \n",
    "# tactics which take a single term as a parameter\n",
    "# the term is entered as an s-exp surronded by backticks (in the same syntax as terms in the the goal) \n",
    "# For example a boolean variable x would be entered as \"`(v bool x)`\"\n",
    "exists_tac = lambda tm: \"EXISTS_TAC `{}`\".format(tm)\n",
    "raw_subgoal_tac = lambda tm: \"RAW_SUBGOAL_TAC `{}`\".format(tm)\n",
    "trans_tac = lambda tm: \"TRANS_TAC `{}`\".format(tm)\n",
    "undisch_tac = lambda tm: \"UNDISCH_TAC `{}`\".format(tm)\n",
    "x_gen_tac = lambda tm: \"X_GEN_TAC `{}`\".format(tm)\n",
    "             \n",
    "# tactics which take a conversion as a parameter (see below)\n",
    "conv_tac = lambda conv: \"CONV_TAC {}\".format(conv)\n",
    "\n",
    "# tactics which take a conversion function and a theorem list as parameters (see below)\n",
    "gen_rewrite_tac = lambda convfn, thms: \"GEN_REWRITE_TAC {} [ {} ]\".format(convfn, \" ; \".join(\"THM {}\".format(thm) for thm in thms))\n",
    "   \n",
    "# tactics which take positive integers as parameters\n",
    "raw_pop_tac = lambda n: \"RAW_POP_TAC {}\".format(n)\n",
    "    \n",
    "# tactics which take two terms (each s-exp in backquotes) as parameters\n",
    "spec_tac = lambda tm1, tm2: \"SPEC_TAC `{}` `{}`\".format(tm1, tm2)\n",
    "    \n",
    "# tactics which take a term and a theorem as parameters\n",
    "x_choose_tac = lambda tm, th: \"X_CHOOSE_TAC `{}` THM th\".format(tm, th)"
   ]
  },
  {
   "cell_type": "markdown",
   "metadata": {},
   "source": [
    "For the `CONV_TAC` and `GEN_REWRITE_TAC` tactics one needs to supply a conversion or conversion function.  Here are the available conversions."
   ]
  },
  {
   "cell_type": "code",
   "execution_count": 18,
   "metadata": {},
   "outputs": [],
   "source": [
    "# HOL Light conversions\n",
    "beta_conv = \"BETA_CONV\"\n",
    "contrapos_conv = \"CONTRAPOS_CONV\"\n",
    "gen_beta_conv = \"GEN_BETA_CONV\"\n",
    "num_reduce_conv = \"NUM_REDUCE_CONV\"\n",
    "real_rat_reduce_conv = \"REAL_RAT_REDUCE_CONV\"\n",
    "sym_conv = \"SYM_CONV\"\n",
    "\n",
    "# Apply a conversion function to a conversion\n",
    "apply = lambda convfn, conv: \"APPLY {} {}\".format(convfn, conv)\n",
    "\n",
    "# HOL Light conversion functions\n",
    "binder_conv = \"BINDER_CONV\"\n",
    "binop_conv = \"BINOP_CONV\"\n",
    "land_conv = \"LAND_CONV\"\n",
    "once_depth_conv = \"ONCE_DEPTH_CONV\"\n",
    "rand_conv = \"RAND_CONV\"\n",
    "rator_conv = \"RATOR_CONV\"\n",
    "redepth_conv = \"REDEPTH_CONV\"\n",
    "top_depth_conv = \"TOP_DEPTH_CONV\"\n",
    "\n",
    "# Compose a list of conversion functions\n",
    "compose = lambda convfnl: \"COMPOSE [ {} ]\".format(\" ; \".join(convfnl))"
   ]
  },
  {
   "cell_type": "markdown",
   "metadata": {},
   "source": [
    "## TODO: Figure out how all this fits into the big workflow of using the HOList Dataset."
   ]
  },
  {
   "cell_type": "markdown",
   "metadata": {},
   "source": [
    "## Don't forget to shutdown the HOList server when done"
   ]
  },
  {
   "cell_type": "code",
   "execution_count": 19,
   "metadata": {},
   "outputs": [
    {
     "name": "stdout",
     "output_type": "stream",
     "text": [
      "holist\n",
      "holist\n"
     ]
    }
   ],
   "source": [
    "! docker stop holist && docker rm holist"
   ]
  }
 ],
 "metadata": {
  "kernelspec": {
   "display_name": "Python 3",
   "language": "python",
   "name": "python3"
  },
  "language_info": {
   "codemirror_mode": {
    "name": "ipython",
    "version": 3
   },
   "file_extension": ".py",
   "mimetype": "text/x-python",
   "name": "python",
   "nbconvert_exporter": "python",
   "pygments_lexer": "ipython3",
   "version": "3.7.3"
  },
  "toc": {
   "nav_menu": {},
   "number_sections": true,
   "sideBar": true,
   "skip_h1_title": true,
   "title_cell": "Table of Contents",
   "title_sidebar": "Contents",
   "toc_cell": true,
   "toc_position": {},
   "toc_section_display": true,
   "toc_window_display": false
  }
 },
 "nbformat": 4,
 "nbformat_minor": 2
}
